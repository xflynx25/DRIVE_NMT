{
 "cells": [
  {
   "cell_type": "code",
   "execution_count": 1,
   "metadata": {},
   "outputs": [],
   "source": [
    "import json \n",
    "import time \n",
    "import requests \n",
    "import pandas as pd"
   ]
  },
  {
   "cell_type": "code",
   "execution_count": 4,
   "metadata": {},
   "outputs": [],
   "source": [
    "data = pd.read_csv('../Data/Prepared/openlanguagedata-flores-plus-parallel-test-data.csv')"
   ]
  },
  {
   "cell_type": "code",
   "execution_count": 5,
   "metadata": {},
   "outputs": [
    {
     "data": {
      "text/plain": [
       "(2009, 2)"
      ]
     },
     "execution_count": 5,
     "metadata": {},
     "output_type": "execute_result"
    }
   ],
   "source": [
    "data.shape"
   ]
  },
  {
   "cell_type": "code",
   "execution_count": 6,
   "metadata": {},
   "outputs": [
    {
     "data": {
      "text/plain": [
       "Index(['eng', 'dzo'], dtype='object')"
      ]
     },
     "execution_count": 6,
     "metadata": {},
     "output_type": "execute_result"
    }
   ],
   "source": [
    "data.columns"
   ]
  },
  {
   "cell_type": "code",
   "execution_count": null,
   "metadata": {},
   "outputs": [],
   "source": [
    "API_URL = \"https://nlp.cst.edu.bt/nmt/api/\"\n",
    "\n",
    "CSRF_TOKEN = \"boehLrlVWeJIxsCxYKNY5eGXXovlRVipiOKGRVfAxlLPvDamNdStOYR6cXOchtt2\"\n",
    "\n",
    "\n",
    "def translate_batch(sentences, count=100, delay=10, max_retries=3):\n",
    "\n",
    "    count = 0\n",
    "\n",
    "    for i in range(len(sentences)):\n",
    "        batch = sentences[i]  \n",
    "\n",
    "        data = {\n",
    "            \"csrfmiddlewaretoken\": CSRF_TOKEN,  \n",
    "            \"src_lang\": \"eng_Latn\", \n",
    "            \"tgt_lang\": \"dzo_Tibt\",  \n",
    "            \"text\": batch  \n",
    "        }\n",
    "        \n",
    "        retries = 0  \n",
    "\n",
    "        if count == 100:\n",
    "            time.sleep(50)\n",
    "            count =  0\n",
    "        else:\n",
    "            pass\n",
    "\n",
    "\n",
    "        while retries < max_retries:\n",
    "            try:\n",
    "                response = requests.post(API_URL, headers={\"Content-Type\": \"application/json\"}, json=data, timeout=10)\n",
    "\n",
    "                if response.status_code == 200:\n",
    "                    result = response.json()\n",
    "                    translated_sentences = result\n",
    "                    count += 1\n",
    "                    print(f\"Translated {i} sentences...\")  \n",
    "                    break \n",
    "\n",
    "                else:\n",
    "                    print(f\"Error {response.status_code}: {response.text}\")\n",
    "                    retries += 1\n",
    "                    time.sleep(5)  \n",
    "\n",
    "            except requests.exceptions.RequestException as e:\n",
    "                print(f\"Request failed: {e}\")\n",
    "                retries += 1\n",
    "                time.sleep(5)  \n",
    "\n",
    "        with open(\"Data/translations.txt\", \"a\", encoding=\"utf-8\") as f:\n",
    "                f.write(f\"{translated_sentences}\\n\")\n",
    "\n",
    "        time.sleep(delay)  \n",
    "\n",
    "    return translated_sentences\n"
   ]
  },
  {
   "cell_type": "code",
   "execution_count": null,
   "metadata": {},
   "outputs": [],
   "source": [
    "english_sentences = list(data['eng'])  \n",
    "\n",
    "translations = translate_batch(english_sentences, delay=5)\n",
    "\n",
    "print(\"Translation completed! Results saved in 'translations.txt'\")"
   ]
  },
  {
   "cell_type": "code",
   "execution_count": null,
   "metadata": {},
   "outputs": [],
   "source": [
    "source = []\n",
    "target = []\n",
    "\n",
    "with open('Data/translations.txt', 'r') as file:\n",
    "    lines = file.readlines()\n",
    "\n",
    "    for line in lines:\n",
    "       print(line)"
   ]
  }
 ],
 "metadata": {
  "kernelspec": {
   "display_name": "nmt-env",
   "language": "python",
   "name": "python3"
  },
  "language_info": {
   "codemirror_mode": {
    "name": "ipython",
    "version": 3
   },
   "file_extension": ".py",
   "mimetype": "text/x-python",
   "name": "python",
   "nbconvert_exporter": "python",
   "pygments_lexer": "ipython3",
   "version": "3.10.12"
  }
 },
 "nbformat": 4,
 "nbformat_minor": 2
}

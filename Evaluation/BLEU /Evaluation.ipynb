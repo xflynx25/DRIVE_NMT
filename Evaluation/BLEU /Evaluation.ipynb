{
 "cells": [
  {
   "cell_type": "code",
   "execution_count": 8,
   "metadata": {},
   "outputs": [],
   "source": [
    "import sacrebleu\n",
    "import pandas as pd"
   ]
  },
  {
   "cell_type": "code",
   "execution_count": 9,
   "metadata": {},
   "outputs": [],
   "source": [
    "reference_data = pd.read_csv('../../Data/Prepared/OpenLanguageData_Flores-plus_Parallel_Test_Dataset.csv')\n",
    "google_pred = pd.read_csv('../../Data/Prepared/Translation_Evaluation_GoogleTranslate.csv')\n",
    "cst_pred = pd.read_csv('../../Data/Prepared/Translation_Evaluation_CST.csv')\n",
    "drive_pred = pd.read_csv('../../Data/Prepared/Translation_Evaluation_DRIVE_Prediction.csv')"
   ]
  },
  {
   "cell_type": "markdown",
   "metadata": {},
   "source": [
    "#### BLEU and chrF scores for Google Translation"
   ]
  },
  {
   "cell_type": "code",
   "execution_count": 10,
   "metadata": {},
   "outputs": [],
   "source": [
    "google_pred_dzo_to_eng = google_pred['dzo_to_eng'].to_list()\n",
    "google_pred_eng_to_dzo = google_pred['eng_to_dzo'].to_list()\n",
    "\n",
    "reference_data_dzo_to_eng = reference_data['eng'].tolist()\n",
    "reference_data_eng_to_dzo = reference_data['dzo'].tolist()"
   ]
  },
  {
   "cell_type": "code",
   "execution_count": 11,
   "metadata": {},
   "outputs": [
    {
     "name": "stdout",
     "output_type": "stream",
     "text": [
      "Dzo-Eng BLEU: BLEU = 15.71 90.2/50.0/10.3/1.3 (BP = 1.000 ratio = 1.000 hyp_len = 41 ref_len = 41)\n",
      "Dzo-Eng chrF: chrF2 = 44.18\n"
     ]
    }
   ],
   "source": [
    "# Format references as a list of lists (required by sacrebleu)\n",
    "refs_dzo_to_eng = [[ref] for ref in reference_data_dzo_to_eng]\n",
    "\n",
    "bleu_dzo_to_eng = sacrebleu.corpus_bleu(google_pred_dzo_to_eng, refs_dzo_to_eng)\n",
    "print(f\"Dzo-Eng BLEU: {bleu_dzo_to_eng}\")\n",
    "\n",
    "chrf_dzo_to_eng = sacrebleu.corpus_chrf(google_pred_dzo_to_eng, refs_dzo_to_eng)\n",
    "print(f\"Dzo-Eng chrF: {chrf_dzo_to_eng}\")"
   ]
  },
  {
   "cell_type": "code",
   "execution_count": 12,
   "metadata": {},
   "outputs": [
    {
     "name": "stdout",
     "output_type": "stream",
     "text": [
      "Eng-Dzo BLEU: BLEU = 7.81 50.0/7.1/4.2/2.5 (BP = 1.000 ratio = 1.000 hyp_len = 8 ref_len = 8)\n",
      "Eng-Dzo chrF: chrF2 = 43.06\n"
     ]
    }
   ],
   "source": [
    "# Format references as a list of lists (required by sacrebleu)\n",
    "refs_eng_to_dzo = [[ref] for ref in reference_data_eng_to_dzo]\n",
    "\n",
    "bleu_eng_to_dzo = sacrebleu.corpus_bleu(google_pred_eng_to_dzo, refs_eng_to_dzo)\n",
    "print(f\"Eng-Dzo BLEU: {bleu_eng_to_dzo}\")\n",
    "\n",
    "chrf_eng_to_dzo = sacrebleu.corpus_chrf(google_pred_eng_to_dzo, refs_eng_to_dzo)\n",
    "print(f\"Eng-Dzo chrF: {chrf_eng_to_dzo}\")"
   ]
  },
  {
   "cell_type": "markdown",
   "metadata": {},
   "source": [
    "## BLEU and chrF scores for CST"
   ]
  },
  {
   "cell_type": "code",
   "execution_count": 13,
   "metadata": {},
   "outputs": [],
   "source": [
    "cst_pred_dzo_to_eng = cst_pred['dzo_to_eng'].to_list()\n",
    "cst_pred_eng_to_dzo = cst_pred['eng_to_dzo'].to_list()"
   ]
  },
  {
   "cell_type": "code",
   "execution_count": 14,
   "metadata": {},
   "outputs": [
    {
     "name": "stdout",
     "output_type": "stream",
     "text": [
      "Dzo-Eng BLEU: BLEU = 44.17 93.3/61.4/34.9/19.0 (BP = 1.000 ratio = 1.000 hyp_len = 45 ref_len = 45)\n",
      "Dzo-Eng chrF: chrF2 = 51.45\n"
     ]
    }
   ],
   "source": [
    "bleu_dzo_to_eng = sacrebleu.corpus_bleu(cst_pred_dzo_to_eng, refs_dzo_to_eng)\n",
    "print(f\"Dzo-Eng BLEU: {bleu_dzo_to_eng}\")\n",
    "\n",
    "chrf_dzo_to_eng = sacrebleu.corpus_chrf(cst_pred_dzo_to_eng, refs_dzo_to_eng)\n",
    "print(f\"Dzo-Eng chrF: {chrf_dzo_to_eng}\")"
   ]
  },
  {
   "cell_type": "code",
   "execution_count": 15,
   "metadata": {},
   "outputs": [
    {
     "name": "stdout",
     "output_type": "stream",
     "text": [
      "Eng-Dzo BLEU: BLEU = 1.43 6.5/1.7/0.9/0.4 (BP = 1.000 ratio = 1.033 hyp_len = 31 ref_len = 30)\n",
      "Eng-Dzo chrF: chrF2 = 32.71\n"
     ]
    }
   ],
   "source": [
    "bleu_eng_to_dzo = sacrebleu.corpus_bleu(cst_pred_eng_to_dzo, refs_eng_to_dzo)\n",
    "print(f\"Eng-Dzo BLEU: {bleu_eng_to_dzo}\")\n",
    "\n",
    "chrf_eng_to_dzo = sacrebleu.corpus_chrf(cst_pred_eng_to_dzo, refs_eng_to_dzo)\n",
    "print(f\"Eng-Dzo chrF: {chrf_eng_to_dzo}\")"
   ]
  },
  {
   "cell_type": "markdown",
   "metadata": {},
   "source": [
    "## BLEU and chrF scores for DRIVE"
   ]
  },
  {
   "cell_type": "code",
   "execution_count": 16,
   "metadata": {},
   "outputs": [],
   "source": [
    "drive_pred_dzo_to_eng = drive_pred['dzo_to_eng'].to_list()\n",
    "drive_pred_eng_to_dzo = drive_pred['eng_to_dzo'].to_list()"
   ]
  },
  {
   "cell_type": "code",
   "execution_count": 17,
   "metadata": {},
   "outputs": [
    {
     "name": "stdout",
     "output_type": "stream",
     "text": [
      "Dzo-Eng BLEU: BLEU = 17.67 97.1/52.9/12.1/1.6 (BP = 1.000 ratio = 1.000 hyp_len = 35 ref_len = 35)\n",
      "Dzo-Eng chrF: chrF2 = 40.88\n"
     ]
    }
   ],
   "source": [
    "bleu_dzo_to_eng = sacrebleu.corpus_bleu(drive_pred_dzo_to_eng, refs_dzo_to_eng)\n",
    "print(f\"Dzo-Eng BLEU: {bleu_dzo_to_eng}\")\n",
    "\n",
    "chrf_dzo_to_eng = sacrebleu.corpus_chrf(drive_pred_dzo_to_eng, refs_dzo_to_eng)\n",
    "print(f\"Dzo-Eng chrF: {chrf_dzo_to_eng}\")"
   ]
  },
  {
   "cell_type": "code",
   "execution_count": 18,
   "metadata": {},
   "outputs": [
    {
     "name": "stdout",
     "output_type": "stream",
     "text": [
      "Eng-Dzo BLEU: BLEU = 4.93 27.3/5.0/2.8/1.6 (BP = 1.000 ratio = 1.000 hyp_len = 11 ref_len = 11)\n",
      "Eng-Dzo chrF: chrF2 = 54.42\n"
     ]
    }
   ],
   "source": [
    "bleu_eng_to_dzo = sacrebleu.corpus_bleu(drive_pred_eng_to_dzo, refs_eng_to_dzo)\n",
    "print(f\"Eng-Dzo BLEU: {bleu_eng_to_dzo}\")\n",
    "\n",
    "chrf_eng_to_dzo = sacrebleu.corpus_chrf(drive_pred_eng_to_dzo, refs_eng_to_dzo)\n",
    "print(f\"Eng-Dzo chrF: {chrf_eng_to_dzo}\")"
   ]
  },
  {
   "cell_type": "code",
   "execution_count": null,
   "metadata": {},
   "outputs": [],
   "source": []
  }
 ],
 "metadata": {
  "kernelspec": {
   "display_name": "nmt-env",
   "language": "python",
   "name": "python3"
  },
  "language_info": {
   "codemirror_mode": {
    "name": "ipython",
    "version": 3
   },
   "file_extension": ".py",
   "mimetype": "text/x-python",
   "name": "python",
   "nbconvert_exporter": "python",
   "pygments_lexer": "ipython3",
   "version": "3.10.12"
  }
 },
 "nbformat": 4,
 "nbformat_minor": 2
}

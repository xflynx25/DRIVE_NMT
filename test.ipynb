{
 "cells": [
  {
   "cell_type": "code",
   "execution_count": 27,
   "metadata": {},
   "outputs": [],
   "source": [
    "import pandas as pd\n",
    "import numpy as np"
   ]
  },
  {
   "cell_type": "code",
   "execution_count": 28,
   "metadata": {},
   "outputs": [],
   "source": [
    "data = pd.read_csv(\"Data/Raw/Final_Copy_15_Oct.csv\")"
   ]
  },
  {
   "cell_type": "code",
   "execution_count": 29,
   "metadata": {},
   "outputs": [
    {
     "data": {
      "text/plain": [
       "(299428, 2)"
      ]
     },
     "execution_count": 29,
     "metadata": {},
     "output_type": "execute_result"
    }
   ],
   "source": [
    "data.shape"
   ]
  },
  {
   "cell_type": "code",
   "execution_count": 30,
   "metadata": {},
   "outputs": [],
   "source": [
    "def check_for_duplicates(data, input, target):\n",
    "    seen = set()\n",
    "    seen_index = {}\n",
    "\n",
    "    duplicates = []\n",
    "\n",
    "    for index in range(len(data[target])):\n",
    "        sentence =str(data[target][index]).strip()\n",
    "\n",
    "        if sentence in seen:\n",
    "            previous_index = seen_index[sentence]  \n",
    "            if data[input][index].strip() == data[input][previous_index].strip():  \n",
    "                duplicates.append({\n",
    "                    index: [data[target][index], data[input][index].strip()],\n",
    "                    previous_index: [data[target][previous_index], data[input][previous_index].strip()]\n",
    "                })\n",
    "            else:\n",
    "                continue\n",
    "        else:\n",
    "            seen.add(sentence)\n",
    "            seen_index[sentence] = index\n",
    "        \n",
    "    return duplicates"
   ]
  },
  {
   "cell_type": "code",
   "execution_count": 31,
   "metadata": {},
   "outputs": [
    {
     "name": "stdout",
     "output_type": "stream",
     "text": [
      "30611\n"
     ]
    }
   ],
   "source": [
    "duplicates = check_for_duplicates(data, 'eng', 'dzo')\n",
    "print(len(duplicates))"
   ]
  },
  {
   "cell_type": "code",
   "execution_count": 32,
   "metadata": {},
   "outputs": [
    {
     "data": {
      "text/plain": [
       "[{459: ['ཨིན་རུང་ ལ་ལུ་ཅིག་གིས་འབད་བ་ཅིན་ གཡུས་ཚན་གྱི་གནས་ཚད་ཁར་ ཚར་གཅིག་གུར་བཀག་ཆ་འབད་ནི་འདི་ ལཱ་ཁག་གཏང་འོང་ཟེར་ཨིན་མས།',\n",
       "   'However, a few said it would be difficult at once to stop the practice at the village level.'],\n",
       "  353: ['ཨིན་རུང་ ལ་ལུ་ཅིག་གིས་འབད་བ་ཅིན་ གཡུས་ཚན་གྱི་གནས་ཚད་ཁར་ ཚར་གཅིག་གུར་བཀག་ཆ་འབད་ནི་འདི་ ལཱ་ཁག་གཏང་འོང་ཟེར་ཨིན་མས།',\n",
       "   'However, a few said it would be difficult at once to stop the practice at the village level.']},\n",
       " {2846: ['བྱི་ལི་འདི་ ཡིད་ཁར་འོང་ཏོག་ཏོ་འདུག།', 'The cat is adorable.'],\n",
       "  2819: ['བྱི་ལི་འདི་ ཡིད་ཁར་འོང་ཏོག་ཏོ་འདུག།', 'The cat is adorable.']},\n",
       " {2847: ['བྱི་ལི་འདི་མ་ཤི་བས།', 'The cat is not dead.'],\n",
       "  2820: ['བྱི་ལི་འདི་མ་ཤི་བས།', 'The cat is not dead.']},\n",
       " {2848: ['བྱི་ལི་འདི་ཉལ་ནུག།', 'The cat is sleeping.'],\n",
       "  2821: ['བྱི་ལི་འདི་ཉལ་ནུག།', 'The cat is sleeping.']},\n",
       " {2849: ['རྐང་ཁྲི་འདི་ཆག་ནུག།', 'The chair is broken.'],\n",
       "  2822: ['རྐང་ཁྲི་འདི་ཆག་ནུག།', 'The chair is broken.']},\n",
       " {2850: ['རྒྱབ་སྐྱོར་གྱི་སྐད་རྐྱབ་ནི་འདི་ མཚམས་འཇོག་འབད་ནུག།',\n",
       "   'The cheering ceased.'],\n",
       "  2823: ['རྒྱབ་སྐྱོར་གྱི་སྐད་རྐྱབ་ནི་འདི་ མཚམས་འཇོག་འབད་ནུག།',\n",
       "   'The cheering ceased.']},\n",
       " {2851: ['གདམ་ཁ་འདི་ ཁྱོད་ལུ་ཡོད།', 'The choice is yours.'],\n",
       "  2824: ['གདམ་ཁ་འདི་ ཁྱོད་ལུ་ཡོད།', 'The choice is yours.']},\n",
       " {3187: ['འདི་མི་བདེན།', 'This is not true.'],\n",
       "  3153: ['འདི་མི་བདེན།', 'This is not true.']},\n",
       " {8011: ['ང་སྡོད་ས་ནཱ་ལུ་ཨིན།', \"That's where I live.\"],\n",
       "  2818: ['ང་སྡོད་ས་ནཱ་ལུ་ཨིན།', \"That's where I live.\"]},\n",
       " {8012: ['ང་ལཱ་འབད་ས་ནཱ་ལུ་ཨིན།', \"That's where I work.\"],\n",
       "  2825: ['ང་ལཱ་འབད་ས་ནཱ་ལུ་ཨིན།', \"That's where I work.\"]}]"
      ]
     },
     "execution_count": 32,
     "metadata": {},
     "output_type": "execute_result"
    }
   ],
   "source": [
    "duplicates[0:10]"
   ]
  },
  {
   "cell_type": "code",
   "execution_count": 33,
   "metadata": {},
   "outputs": [],
   "source": [
    "def remove_duplicates(data, duplicates):\n",
    "    indices_to_drop = []\n",
    "\n",
    "    for duplicate in duplicates:\n",
    "        first_index = int(list(duplicate.keys())[0])\n",
    "        indices_to_drop.append(first_index)\n",
    "\n",
    "    sorted(indices_to_drop, reverse=True)\n",
    "    data = data.drop(index=indices_to_drop)\n",
    "    data.reset_index(drop=True, inplace=True)\n",
    "    return data"
   ]
  },
  {
   "cell_type": "code",
   "execution_count": 34,
   "metadata": {},
   "outputs": [],
   "source": [
    "data = remove_duplicates(data,duplicates)"
   ]
  },
  {
   "cell_type": "code",
   "execution_count": 35,
   "metadata": {},
   "outputs": [
    {
     "data": {
      "text/html": [
       "<div>\n",
       "<style scoped>\n",
       "    .dataframe tbody tr th:only-of-type {\n",
       "        vertical-align: middle;\n",
       "    }\n",
       "\n",
       "    .dataframe tbody tr th {\n",
       "        vertical-align: top;\n",
       "    }\n",
       "\n",
       "    .dataframe thead th {\n",
       "        text-align: right;\n",
       "    }\n",
       "</style>\n",
       "<table border=\"1\" class=\"dataframe\">\n",
       "  <thead>\n",
       "    <tr style=\"text-align: right;\">\n",
       "      <th></th>\n",
       "      <th>eng</th>\n",
       "      <th>dzo</th>\n",
       "    </tr>\n",
       "  </thead>\n",
       "  <tbody>\n",
       "    <tr>\n",
       "      <th>0</th>\n",
       "      <td>Construction of the Padtselling Thubten Sherub...</td>\n",
       "      <td>གསར་སྤང་རྫོང་ཁག་ནང་ལུ་ པད་ཚལ་གླིང་ཐུབ་བསྟན་བཤད...</td>\n",
       "    </tr>\n",
       "    <tr>\n",
       "      <th>1</th>\n",
       "      <td>Around 80 percent of the works have been compl...</td>\n",
       "      <td>ལཱ་བརྒྱ་ཆ་༨༠ དེ་ཅིག་མཇུག་བསྡུ་སྟེ་ཡོདཔ་ཨིན་མས།</td>\n",
       "    </tr>\n",
       "    <tr>\n",
       "      <th>2</th>\n",
       "      <td>Construction of the Lhakhang which began in 20...</td>\n",
       "      <td>སྤྱི་ལོ་༢༠༡༦ ལས་བཞེངས་ནི་འགོ་བཙུགས་ཡོད་པའི་ལྷ་...</td>\n",
       "    </tr>\n",
       "    <tr>\n",
       "      <th>3</th>\n",
       "      <td>The Dorji Lopen of the Zhung Dratshang appoint...</td>\n",
       "      <td>གཞུང་གྲྭ་ཚང་གི་རྡོ་རྗེ་སློབ་དཔོན་གྱིས་ ད་རིས་ ...</td>\n",
       "    </tr>\n",
       "    <tr>\n",
       "      <th>4</th>\n",
       "      <td>Lam Yeshi is the new Lam of Khujula Goenpa in ...</td>\n",
       "      <td>བླམ་ཡེ་ཤེས་འདི་ དབང་འདུས་ཕོ་བྲང་རྫོང་ཁག་འོག་གི...</td>\n",
       "    </tr>\n",
       "  </tbody>\n",
       "</table>\n",
       "</div>"
      ],
      "text/plain": [
       "                                                 eng  \\\n",
       "0  Construction of the Padtselling Thubten Sherub...   \n",
       "1  Around 80 percent of the works have been compl...   \n",
       "2  Construction of the Lhakhang which began in 20...   \n",
       "3  The Dorji Lopen of the Zhung Dratshang appoint...   \n",
       "4  Lam Yeshi is the new Lam of Khujula Goenpa in ...   \n",
       "\n",
       "                                                 dzo  \n",
       "0  གསར་སྤང་རྫོང་ཁག་ནང་ལུ་ པད་ཚལ་གླིང་ཐུབ་བསྟན་བཤད...  \n",
       "1     ལཱ་བརྒྱ་ཆ་༨༠ དེ་ཅིག་མཇུག་བསྡུ་སྟེ་ཡོདཔ་ཨིན་མས།  \n",
       "2  སྤྱི་ལོ་༢༠༡༦ ལས་བཞེངས་ནི་འགོ་བཙུགས་ཡོད་པའི་ལྷ་...  \n",
       "3  གཞུང་གྲྭ་ཚང་གི་རྡོ་རྗེ་སློབ་དཔོན་གྱིས་ ད་རིས་ ...  \n",
       "4  བླམ་ཡེ་ཤེས་འདི་ དབང་འདུས་ཕོ་བྲང་རྫོང་ཁག་འོག་གི...  "
      ]
     },
     "execution_count": 35,
     "metadata": {},
     "output_type": "execute_result"
    }
   ],
   "source": [
    "data.head()"
   ]
  },
  {
   "cell_type": "code",
   "execution_count": 36,
   "metadata": {},
   "outputs": [],
   "source": [
    "data1 = pd.read_csv(\"Data/Prepared/DCDD_10K_Parallel_Dataset.csv\")\n",
    "data2 = pd.read_csv(\"Data/Prepared/DCDD_43K_Parallel_Dataset.csv\")"
   ]
  },
  {
   "cell_type": "code",
   "execution_count": 37,
   "metadata": {},
   "outputs": [
    {
     "name": "stdout",
     "output_type": "stream",
     "text": [
      "(10000, 2)\n",
      "(43700, 2)\n"
     ]
    }
   ],
   "source": [
    "print(data1.shape)\n",
    "print(data2.shape)"
   ]
  },
  {
   "cell_type": "code",
   "execution_count": 18,
   "metadata": {},
   "outputs": [
    {
     "data": {
      "text/html": [
       "<div>\n",
       "<style scoped>\n",
       "    .dataframe tbody tr th:only-of-type {\n",
       "        vertical-align: middle;\n",
       "    }\n",
       "\n",
       "    .dataframe tbody tr th {\n",
       "        vertical-align: top;\n",
       "    }\n",
       "\n",
       "    .dataframe thead th {\n",
       "        text-align: right;\n",
       "    }\n",
       "</style>\n",
       "<table border=\"1\" class=\"dataframe\">\n",
       "  <thead>\n",
       "    <tr style=\"text-align: right;\">\n",
       "      <th></th>\n",
       "      <th>eng</th>\n",
       "      <th>dzo</th>\n",
       "    </tr>\n",
       "  </thead>\n",
       "  <tbody>\n",
       "    <tr>\n",
       "      <th>0</th>\n",
       "      <td>This novel is written by famous american writer</td>\n",
       "      <td>སྲུང་རྩོམ་འདི་ཨ་མི་རི་ཀའི་རྩོམ་སྒྲིག་པ་སྐད་གྲག...</td>\n",
       "    </tr>\n",
       "    <tr>\n",
       "      <th>1</th>\n",
       "      <td>This river isn't deep enough for this kind of ...</td>\n",
       "      <td>གཙང་ཆུ་འདི་གྲུ་ཆུང་འདི་བཟུམ་གྱི་དོན་ལུ་གཏིང་ལང...</td>\n",
       "    </tr>\n",
       "    <tr>\n",
       "      <th>2</th>\n",
       "      <td>This semester I failed two students for plagia...</td>\n",
       "      <td>སློབ་དུས་འདི་ནང་ང་གི་སློབ་ཕྲུག་གཉིས་དཔེ་རྐུ་ལས...</td>\n",
       "    </tr>\n",
       "    <tr>\n",
       "      <th>3</th>\n",
       "      <td>This song reminds me of my junior high school ...</td>\n",
       "      <td>ཞབས་ཁྲ་འདི་གིས་ང་གི་འབྲིང་རིམ་སློབ་གྲྭ་བར་མའི་...</td>\n",
       "    </tr>\n",
       "    <tr>\n",
       "      <th>4</th>\n",
       "      <td>This tree is the tallest and oldest in this fo...</td>\n",
       "      <td>ཤིང་འདི་ནགས་ཚལ་འདི་ནང་རིང་ཤོས་དང་རྒས་ཤོས་ཅིག་ཨིན།</td>\n",
       "    </tr>\n",
       "  </tbody>\n",
       "</table>\n",
       "</div>"
      ],
      "text/plain": [
       "                                                 eng  \\\n",
       "0    This novel is written by famous american writer   \n",
       "1  This river isn't deep enough for this kind of ...   \n",
       "2  This semester I failed two students for plagia...   \n",
       "3  This song reminds me of my junior high school ...   \n",
       "4  This tree is the tallest and oldest in this fo...   \n",
       "\n",
       "                                                 dzo  \n",
       "0  སྲུང་རྩོམ་འདི་ཨ་མི་རི་ཀའི་རྩོམ་སྒྲིག་པ་སྐད་གྲག...  \n",
       "1  གཙང་ཆུ་འདི་གྲུ་ཆུང་འདི་བཟུམ་གྱི་དོན་ལུ་གཏིང་ལང...  \n",
       "2  སློབ་དུས་འདི་ནང་ང་གི་སློབ་ཕྲུག་གཉིས་དཔེ་རྐུ་ལས...  \n",
       "3  ཞབས་ཁྲ་འདི་གིས་ང་གི་འབྲིང་རིམ་སློབ་གྲྭ་བར་མའི་...  \n",
       "4  ཤིང་འདི་ནགས་ཚལ་འདི་ནང་རིང་ཤོས་དང་རྒས་ཤོས་ཅིག་ཨིན།  "
      ]
     },
     "execution_count": 18,
     "metadata": {},
     "output_type": "execute_result"
    }
   ],
   "source": [
    "data1.head()"
   ]
  },
  {
   "cell_type": "code",
   "execution_count": 38,
   "metadata": {},
   "outputs": [
    {
     "data": {
      "text/html": [
       "<div>\n",
       "<style scoped>\n",
       "    .dataframe tbody tr th:only-of-type {\n",
       "        vertical-align: middle;\n",
       "    }\n",
       "\n",
       "    .dataframe tbody tr th {\n",
       "        vertical-align: top;\n",
       "    }\n",
       "\n",
       "    .dataframe thead th {\n",
       "        text-align: right;\n",
       "    }\n",
       "</style>\n",
       "<table border=\"1\" class=\"dataframe\">\n",
       "  <thead>\n",
       "    <tr style=\"text-align: right;\">\n",
       "      <th></th>\n",
       "      <th>eng</th>\n",
       "      <th>dzo</th>\n",
       "    </tr>\n",
       "  </thead>\n",
       "  <tbody>\n",
       "    <tr>\n",
       "      <th>0</th>\n",
       "      <td>Construction of the Padtselling Thubten Sherub...</td>\n",
       "      <td>གསར་སྤང་རྫོང་ཁག་ནང་ལུ་ པད་ཚལ་གླིང་ཐུབ་བསྟན་བཤད...</td>\n",
       "    </tr>\n",
       "    <tr>\n",
       "      <th>1</th>\n",
       "      <td>Around 80 percent of the works have been compl...</td>\n",
       "      <td>ལཱ་བརྒྱ་ཆ་༨༠ དེ་ཅིག་མཇུག་བསྡུ་སྟེ་ཡོདཔ་ཨིན་མས།</td>\n",
       "    </tr>\n",
       "    <tr>\n",
       "      <th>2</th>\n",
       "      <td>Construction of the Lhakhang which began in 20...</td>\n",
       "      <td>སྤྱི་ལོ་༢༠༡༦ ལས་བཞེངས་ནི་འགོ་བཙུགས་ཡོད་པའི་ལྷ་...</td>\n",
       "    </tr>\n",
       "    <tr>\n",
       "      <th>3</th>\n",
       "      <td>The Dorji Lopen of the Zhung Dratshang appoint...</td>\n",
       "      <td>གཞུང་གྲྭ་ཚང་གི་རྡོ་རྗེ་སློབ་དཔོན་གྱིས་ ད་རིས་ ...</td>\n",
       "    </tr>\n",
       "    <tr>\n",
       "      <th>4</th>\n",
       "      <td>Lam Yeshi is the new Lam of Khujula Goenpa in ...</td>\n",
       "      <td>བླམ་ཡེ་ཤེས་འདི་ དབང་འདུས་ཕོ་བྲང་རྫོང་ཁག་འོག་གི...</td>\n",
       "    </tr>\n",
       "  </tbody>\n",
       "</table>\n",
       "</div>"
      ],
      "text/plain": [
       "                                                 eng  \\\n",
       "0  Construction of the Padtselling Thubten Sherub...   \n",
       "1  Around 80 percent of the works have been compl...   \n",
       "2  Construction of the Lhakhang which began in 20...   \n",
       "3  The Dorji Lopen of the Zhung Dratshang appoint...   \n",
       "4  Lam Yeshi is the new Lam of Khujula Goenpa in ...   \n",
       "\n",
       "                                                 dzo  \n",
       "0  གསར་སྤང་རྫོང་ཁག་ནང་ལུ་ པད་ཚལ་གླིང་ཐུབ་བསྟན་བཤད...  \n",
       "1     ལཱ་བརྒྱ་ཆ་༨༠ དེ་ཅིག་མཇུག་བསྡུ་སྟེ་ཡོདཔ་ཨིན་མས།  \n",
       "2  སྤྱི་ལོ་༢༠༡༦ ལས་བཞེངས་ནི་འགོ་བཙུགས་ཡོད་པའི་ལྷ་...  \n",
       "3  གཞུང་གྲྭ་ཚང་གི་རྡོ་རྗེ་སློབ་དཔོན་གྱིས་ ད་རིས་ ...  \n",
       "4  བླམ་ཡེ་ཤེས་འདི་ དབང་འདུས་ཕོ་བྲང་རྫོང་ཁག་འོག་གི...  "
      ]
     },
     "execution_count": 38,
     "metadata": {},
     "output_type": "execute_result"
    }
   ],
   "source": [
    "data2.head()"
   ]
  },
  {
   "cell_type": "code",
   "execution_count": 39,
   "metadata": {},
   "outputs": [],
   "source": [
    "df = pd.concat([data, data1, data2], ignore_index=True)"
   ]
  },
  {
   "cell_type": "code",
   "execution_count": 40,
   "metadata": {},
   "outputs": [
    {
     "data": {
      "text/html": [
       "<div>\n",
       "<style scoped>\n",
       "    .dataframe tbody tr th:only-of-type {\n",
       "        vertical-align: middle;\n",
       "    }\n",
       "\n",
       "    .dataframe tbody tr th {\n",
       "        vertical-align: top;\n",
       "    }\n",
       "\n",
       "    .dataframe thead th {\n",
       "        text-align: right;\n",
       "    }\n",
       "</style>\n",
       "<table border=\"1\" class=\"dataframe\">\n",
       "  <thead>\n",
       "    <tr style=\"text-align: right;\">\n",
       "      <th></th>\n",
       "      <th>eng</th>\n",
       "      <th>dzo</th>\n",
       "    </tr>\n",
       "  </thead>\n",
       "  <tbody>\n",
       "    <tr>\n",
       "      <th>0</th>\n",
       "      <td>Construction of the Padtselling Thubten Sherub...</td>\n",
       "      <td>གསར་སྤང་རྫོང་ཁག་ནང་ལུ་ པད་ཚལ་གླིང་ཐུབ་བསྟན་བཤད...</td>\n",
       "    </tr>\n",
       "    <tr>\n",
       "      <th>1</th>\n",
       "      <td>Around 80 percent of the works have been compl...</td>\n",
       "      <td>ལཱ་བརྒྱ་ཆ་༨༠ དེ་ཅིག་མཇུག་བསྡུ་སྟེ་ཡོདཔ་ཨིན་མས།</td>\n",
       "    </tr>\n",
       "    <tr>\n",
       "      <th>2</th>\n",
       "      <td>Construction of the Lhakhang which began in 20...</td>\n",
       "      <td>སྤྱི་ལོ་༢༠༡༦ ལས་བཞེངས་ནི་འགོ་བཙུགས་ཡོད་པའི་ལྷ་...</td>\n",
       "    </tr>\n",
       "    <tr>\n",
       "      <th>3</th>\n",
       "      <td>The Dorji Lopen of the Zhung Dratshang appoint...</td>\n",
       "      <td>གཞུང་གྲྭ་ཚང་གི་རྡོ་རྗེ་སློབ་དཔོན་གྱིས་ ད་རིས་ ...</td>\n",
       "    </tr>\n",
       "    <tr>\n",
       "      <th>4</th>\n",
       "      <td>Lam Yeshi is the new Lam of Khujula Goenpa in ...</td>\n",
       "      <td>བླམ་ཡེ་ཤེས་འདི་ དབང་འདུས་ཕོ་བྲང་རྫོང་ཁག་འོག་གི...</td>\n",
       "    </tr>\n",
       "  </tbody>\n",
       "</table>\n",
       "</div>"
      ],
      "text/plain": [
       "                                                 eng  \\\n",
       "0  Construction of the Padtselling Thubten Sherub...   \n",
       "1  Around 80 percent of the works have been compl...   \n",
       "2  Construction of the Lhakhang which began in 20...   \n",
       "3  The Dorji Lopen of the Zhung Dratshang appoint...   \n",
       "4  Lam Yeshi is the new Lam of Khujula Goenpa in ...   \n",
       "\n",
       "                                                 dzo  \n",
       "0  གསར་སྤང་རྫོང་ཁག་ནང་ལུ་ པད་ཚལ་གླིང་ཐུབ་བསྟན་བཤད...  \n",
       "1     ལཱ་བརྒྱ་ཆ་༨༠ དེ་ཅིག་མཇུག་བསྡུ་སྟེ་ཡོདཔ་ཨིན་མས།  \n",
       "2  སྤྱི་ལོ་༢༠༡༦ ལས་བཞེངས་ནི་འགོ་བཙུགས་ཡོད་པའི་ལྷ་...  \n",
       "3  གཞུང་གྲྭ་ཚང་གི་རྡོ་རྗེ་སློབ་དཔོན་གྱིས་ ད་རིས་ ...  \n",
       "4  བླམ་ཡེ་ཤེས་འདི་ དབང་འདུས་ཕོ་བྲང་རྫོང་ཁག་འོག་གི...  "
      ]
     },
     "execution_count": 40,
     "metadata": {},
     "output_type": "execute_result"
    }
   ],
   "source": [
    "df.head()"
   ]
  },
  {
   "cell_type": "code",
   "execution_count": 41,
   "metadata": {},
   "outputs": [
    {
     "data": {
      "text/plain": [
       "(322517, 2)"
      ]
     },
     "execution_count": 41,
     "metadata": {},
     "output_type": "execute_result"
    }
   ],
   "source": [
    "df.shape"
   ]
  },
  {
   "cell_type": "code",
   "execution_count": 42,
   "metadata": {},
   "outputs": [],
   "source": [
    "duplicates = check_for_duplicates(df, 'eng', 'dzo')"
   ]
  },
  {
   "cell_type": "code",
   "execution_count": 22,
   "metadata": {},
   "outputs": [
    {
     "data": {
      "text/plain": [
       "[{268818: ['གཙང་ཆུ་འདི་གྲུ་ཆུང་འདི་བཟུམ་གྱི་དོན་ལུ་གཏིང་ལངམ་སྦེ་མིན་འདུག',\n",
       "   \"This river isn't deep enough for this kind of boat.\"],\n",
       "  258736: ['གཙང་ཆུ་འདི་གྲུ་ཆུང་འདི་བཟུམ་གྱི་དོན་ལུ་གཏིང་ལངམ་སྦེ་མིན་འདུག',\n",
       "   \"This river isn't deep enough for this kind of boat.\"]},\n",
       " {268819: ['སློབ་དུས་འདི་ནང་ང་གི་སློབ་ཕྲུག་གཉིས་དཔེ་རྐུ་ལས་བརྟེན་མཐར་མ་འཁྱོལ།',\n",
       "   'This semester I failed two students for plagiarism.'],\n",
       "  258737: ['སློབ་དུས་འདི་ནང་ང་གི་སློབ་ཕྲུག་གཉིས་དཔེ་རྐུ་ལས་བརྟེན་མཐར་མ་འཁྱོལ།',\n",
       "   'This semester I failed two students for plagiarism.']},\n",
       " {268820: ['ཞབས་ཁྲ་འདི་གིས་ང་གི་འབྲིང་རིམ་སློབ་གྲྭ་བར་མའི་དུས་ཚོད་དྲན་གསོ་འབདཝ་མས།',\n",
       "   'This song reminds me of my junior high school days.'],\n",
       "  258738: ['ཞབས་ཁྲ་འདི་གིས་ང་གི་འབྲིང་རིམ་སློབ་གྲྭ་བར་མའི་དུས་ཚོད་དྲན་གསོ་འབདཝ་མས།',\n",
       "   'This song reminds me of my junior high school days.']},\n",
       " {268822: ['མི་སྟོང་ཕྲག་ལས་བཅས་ནད་གཞི་འདི་གི་གནོད་པ་ཕོག་ཡི།',\n",
       "   'Thousands of people became victims of this disease.'],\n",
       "  258739: ['མི་སྟོང་ཕྲག་ལས་བཅས་ནད་གཞི་འདི་གི་གནོད་པ་ཕོག་ཡི།',\n",
       "   'Thousands of people became victims of this disease.']},\n",
       " {268823: ['ཕྱི་རྒྱལ་གྱི་ཁ་སྐད་ལྷབ་ནི་གི་དོན་ལས་་དུས་ཚོད་ལེ་ཤ་དགོ་པས།',\n",
       "   'To learn a foreign language requires a lot of time.'],\n",
       "  258740: ['ཕྱི་རྒྱལ་གྱི་ཁ་སྐད་ལྷབ་ནི་གི་དོན་ལས་་དུས་ཚོད་ལེ་ཤ་དགོ་པས།',\n",
       "   'To learn a foreign language requires a lot of time.']},\n",
       " {268825: ['ང་གི་རིག་པ་དང་འཁྲིལ་བ་ཅིན་འཐོར་གཏམ་འདི་མི་བདེན།',\n",
       "   'To the best of my knowledge, the rumor is not true.'],\n",
       "  258741: ['ང་གི་རིག་པ་དང་འཁྲིལ་བ་ཅིན་འཐོར་གཏམ་འདི་མི་བདེན།',\n",
       "   'To the best of my knowledge, the rumor is not true.']},\n",
       " {268826: ['ཊཕས་གཙུག་ལག་སློབ་སྡེ་འདི་ བོས་ཊན་ལུ་སློབ་གྲྭ་སྐད་གྲགས་ཅན་ཅིག་ཨིན།',\n",
       "   'Tufts University is a very famous school in Boston.'],\n",
       "  258742: ['ཊཕས་གཙུག་ལག་སློབ་སྡེ་འདི་ བོས་ཊན་ལུ་སློབ་གྲྭ་སྐད་གྲགས་ཅན་ཅིག་ཨིན།',\n",
       "   'Tufts University is a very famous school in Boston.']},\n",
       " {268827: ['དུས་ཚུད་ད་ལྟོ་ཚུན་ ཁོ་ ཁོ་རའི་ཨ་ཞང་དང་གཅིག་ཁར་སྡོད་ཡི།',\n",
       "   'Up to that time he had been staying with his uncle.'],\n",
       "  258743: ['དུས་ཚུད་ད་ལྟོ་ཚུན་ ཁོ་ ཁོ་རའི་ཨ་ཞང་དང་གཅིག་ཁར་སྡོད་ཡི།',\n",
       "   'Up to that time he had been staying with his uncle.']},\n",
       " {268828: ['ཁྱོད་ཀྱི་སློབ་གྲྭ་གོང་མའི་དྲྭ་རིལ་རྩོདམོ་གི་སྡེ་ཚན་འདི་ སྡེ་ཚན་ལེགས་ཤོམ་སྡོད་ཡི་ག?',\n",
       "   \"Was your high school's basketball team a good team?\"],\n",
       "  258744: ['ཁྱོད་ཀྱི་སློབ་གྲྭ་གོང་མའི་དྲྭ་རིལ་རྩོདམོ་གི་སྡེ་ཚན་འདི་ སྡེ་ཚན་ལེགས་ཤོམ་སྡོད་ཡི་ག?',\n",
       "   \"Was your high school's basketball team a good team?\"]},\n",
       " {268829: ['ཆུ་འདི་གཤེར་ཆུ་ཨིན། བསིལ་དྲགས་ཀྱི་དུས་ལུ་རྡོག་རྡོག་རིལ་རི་ལུ་འགྱུརཝ་ཨིན།',\n",
       "   'Water is liquid. When it freezes, it becomes solid.'],\n",
       "  258745: ['ཆུ་འདི་གཤེར་ཆུ་ཨིན། བསིལ་དྲགས་ཀྱི་དུས་ལུ་རྡོག་རྡོག་རིལ་རི་ལུ་འགྱུརཝ་ཨིན།',\n",
       "   'Water is liquid. When it freezes, it becomes solid.']}]"
      ]
     },
     "execution_count": 22,
     "metadata": {},
     "output_type": "execute_result"
    }
   ],
   "source": [
    "duplicates[0:10]"
   ]
  },
  {
   "cell_type": "code",
   "execution_count": 43,
   "metadata": {},
   "outputs": [
    {
     "name": "stdout",
     "output_type": "stream",
     "text": [
      "53364\n"
     ]
    }
   ],
   "source": [
    "print(len(duplicates))"
   ]
  },
  {
   "cell_type": "code",
   "execution_count": 44,
   "metadata": {},
   "outputs": [],
   "source": [
    "df = remove_duplicates(df,duplicates)"
   ]
  },
  {
   "cell_type": "code",
   "execution_count": 45,
   "metadata": {},
   "outputs": [],
   "source": [
    "for data in data1['dzo']:\n",
    "    if data in df['dzo']:\n",
    "        print(\"Yes\")"
   ]
  },
  {
   "cell_type": "code",
   "execution_count": 46,
   "metadata": {},
   "outputs": [],
   "source": [
    "df.to_csv(\"Data/Prepared/Web_Scraped_Paralled_Dataset.csv\", index=False)"
   ]
  },
  {
   "cell_type": "code",
   "execution_count": null,
   "metadata": {},
   "outputs": [],
   "source": []
  }
 ],
 "metadata": {
  "kernelspec": {
   "display_name": "nmt-env",
   "language": "python",
   "name": "python3"
  },
  "language_info": {
   "codemirror_mode": {
    "name": "ipython",
    "version": 3
   },
   "file_extension": ".py",
   "mimetype": "text/x-python",
   "name": "python",
   "nbconvert_exporter": "python",
   "pygments_lexer": "ipython3",
   "version": "3.10.12"
  }
 },
 "nbformat": 4,
 "nbformat_minor": 2
}
